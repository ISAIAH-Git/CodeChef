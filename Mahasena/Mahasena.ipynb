{
 "cells": [
  {
   "cell_type": "code",
   "execution_count": 1,
   "metadata": {},
   "outputs": [
    {
     "name": "stdout",
     "output_type": "stream",
     "text": [
      "5\n",
      "1 2 3 4 5\n",
      "NOT READY\n"
     ]
    }
   ],
   "source": [
    "length=int(input())\n",
    "List=list(map(int,input().split()))\n",
    "even_list=list()\n",
    "odd_list=list()\n",
    "for j in List:\n",
    "    if(j%2==0):\n",
    "        even_list.append(j)\n",
    "    elif(j%2!=0):\n",
    "        odd_list.append(j)\n",
    "if(len(even_list)>len(odd_list)):\n",
    "    print(\"READY FOR BATTLE\")\n",
    "else:\n",
    "    print(\"NOT READY\")"
   ]
  }
 ],
 "metadata": {
  "kernelspec": {
   "display_name": "Python 3",
   "language": "python",
   "name": "python3"
  },
  "language_info": {
   "codemirror_mode": {
    "name": "ipython",
    "version": 3
   },
   "file_extension": ".py",
   "mimetype": "text/x-python",
   "name": "python",
   "nbconvert_exporter": "python",
   "pygments_lexer": "ipython3",
   "version": "3.8.3"
  }
 },
 "nbformat": 4,
 "nbformat_minor": 4
}
