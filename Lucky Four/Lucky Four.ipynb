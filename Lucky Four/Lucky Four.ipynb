{
 "cells": [
  {
   "cell_type": "code",
   "execution_count": 1,
   "metadata": {},
   "outputs": [
    {
     "name": "stdout",
     "output_type": "stream",
     "text": [
      "5\n",
      "447474\n",
      "4\n",
      "228\n",
      "0\n",
      "6664\n",
      "1\n",
      "40\n",
      "1\n",
      "81\n",
      "0\n"
     ]
    }
   ],
   "source": [
    "for i in range(int(input())):\n",
    "    Input=input()\n",
    "    print(Input.count('4'))"
   ]
  }
 ],
 "metadata": {
  "kernelspec": {
   "display_name": "Python 3",
   "language": "python",
   "name": "python3"
  },
  "language_info": {
   "codemirror_mode": {
    "name": "ipython",
    "version": 3
   },
   "file_extension": ".py",
   "mimetype": "text/x-python",
   "name": "python",
   "nbconvert_exporter": "python",
   "pygments_lexer": "ipython3",
   "version": "3.8.3"
  }
 },
 "nbformat": 4,
 "nbformat_minor": 4
}
