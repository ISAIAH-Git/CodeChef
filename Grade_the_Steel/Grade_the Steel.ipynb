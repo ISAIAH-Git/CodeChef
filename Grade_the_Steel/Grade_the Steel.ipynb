{
 "cells": [
  {
   "cell_type": "code",
   "execution_count": 2,
   "metadata": {},
   "outputs": [
    {
     "name": "stdout",
     "output_type": "stream",
     "text": [
      "6\n",
      "60 0.6 5602\n",
      "10\n",
      "60 0.5 4500\n",
      "9\n",
      "40 0.5 5602\n",
      "8\n",
      "60 0.8 560000\n",
      "7\n",
      "60 0.9 3000\n",
      "6\n",
      "40 0.8 3000\n",
      "5\n"
     ]
    }
   ],
   "source": [
    "for i in range(int(input())):\n",
    "    x,y,z=map(float,input().split())\n",
    "    if(x>50 and y<0.7 and z>5600):\n",
    "        print(\"10\")\n",
    "    elif(x>50 and y<0.7 and z<=5600):\n",
    "        print(\"9\")\n",
    "    elif(y<0.7 and z>5600 and x<=50):\n",
    "        print(\"8\")\n",
    "    elif(x>50 and z>5600 and y>=0.7):\n",
    "        print(\"7\")\n",
    "    elif(x>50 or y<0.7 or z>5600):\n",
    "        print(\"6\")\n",
    "    elif(x<=50 and y>=0.7 and z<=5600):\n",
    "        print(\"5\")"
   ]
  }
 ],
 "metadata": {
  "kernelspec": {
   "display_name": "Python 3",
   "language": "python",
   "name": "python3"
  },
  "language_info": {
   "codemirror_mode": {
    "name": "ipython",
    "version": 3
   },
   "file_extension": ".py",
   "mimetype": "text/x-python",
   "name": "python",
   "nbconvert_exporter": "python",
   "pygments_lexer": "ipython3",
   "version": "3.8.3"
  }
 },
 "nbformat": 4,
 "nbformat_minor": 4
}
