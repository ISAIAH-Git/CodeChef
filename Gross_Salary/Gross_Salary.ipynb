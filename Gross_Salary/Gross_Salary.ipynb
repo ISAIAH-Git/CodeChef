{
 "cells": [
  {
   "cell_type": "code",
   "execution_count": 1,
   "metadata": {},
   "outputs": [
    {
     "name": "stdout",
     "output_type": "stream",
     "text": [
      "3\n",
      "1203\n",
      "2406.00\n",
      "10042\n",
      "20383.16\n",
      "1312\n",
      "2624.00\n"
     ]
    }
   ],
   "source": [
    "for i in range(int(input())):\n",
    "    salary=int(input())\n",
    "    if(salary<1500):\n",
    "        print(\"{:.2f}\".format((salary+salary*0.1+salary*0.9)))\n",
    "    elif(salary>=1500):\n",
    "        print(\"{:.2f}\".format(salary+500+salary*0.98))"
   ]
  }
 ],
 "metadata": {
  "kernelspec": {
   "display_name": "Python 3",
   "language": "python",
   "name": "python3"
  },
  "language_info": {
   "codemirror_mode": {
    "name": "ipython",
    "version": 3
   },
   "file_extension": ".py",
   "mimetype": "text/x-python",
   "name": "python",
   "nbconvert_exporter": "python",
   "pygments_lexer": "ipython3",
   "version": "3.8.3"
  }
 },
 "nbformat": 4,
 "nbformat_minor": 4
}
