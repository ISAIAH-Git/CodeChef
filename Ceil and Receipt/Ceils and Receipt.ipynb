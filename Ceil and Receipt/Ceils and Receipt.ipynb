{
 "cells": [
  {
   "cell_type": "code",
   "execution_count": 1,
   "metadata": {},
   "outputs": [
    {
     "name": "stdout",
     "output_type": "stream",
     "text": [
      "4\n",
      "10\n",
      "2\n",
      "256\n",
      "1\n",
      "255\n",
      "8\n",
      "4096\n",
      "2\n"
     ]
    }
   ],
   "source": [
    "for j in range(int(input())):\n",
    "    ans=0\n",
    "    p=int(input())\n",
    "    y=[2048,1024,512,256,128,64,32,16,8,4,2,1]\n",
    "    while p>0:\n",
    "        for i in y:\n",
    "            if p>=i:\n",
    "                ans+=p//i\n",
    "                p=p%i\n",
    "    print(ans)"
   ]
  }
 ],
 "metadata": {
  "kernelspec": {
   "display_name": "Python 3",
   "language": "python",
   "name": "python3"
  },
  "language_info": {
   "codemirror_mode": {
    "name": "ipython",
    "version": 3
   },
   "file_extension": ".py",
   "mimetype": "text/x-python",
   "name": "python",
   "nbconvert_exporter": "python",
   "pygments_lexer": "ipython3",
   "version": "3.8.3"
  }
 },
 "nbformat": 4,
 "nbformat_minor": 4
}
