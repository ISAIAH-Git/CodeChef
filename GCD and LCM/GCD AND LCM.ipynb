{
 "cells": [
  {
   "cell_type": "code",
   "execution_count": 1,
   "metadata": {},
   "outputs": [
    {
     "name": "stdout",
     "output_type": "stream",
     "text": [
      "3\n",
      "120 140\n",
      "20 840\n",
      "10213 312\n",
      "1 3186456\n",
      "10 30\n",
      "10 30\n"
     ]
    }
   ],
   "source": [
    "import math\n",
    "for i in range(int(input())):\n",
    "    x,y=map(int,input().split())\n",
    "    GCD=math.gcd(x,y)\n",
    "    LCM=(x*y)//GCD\n",
    "    print(GCD,LCM)"
   ]
  }
 ],
 "metadata": {
  "kernelspec": {
   "display_name": "Python 3",
   "language": "python",
   "name": "python3"
  },
  "language_info": {
   "codemirror_mode": {
    "name": "ipython",
    "version": 3
   },
   "file_extension": ".py",
   "mimetype": "text/x-python",
   "name": "python",
   "nbconvert_exporter": "python",
   "pygments_lexer": "ipython3",
   "version": "3.8.3"
  }
 },
 "nbformat": 4,
 "nbformat_minor": 4
}
