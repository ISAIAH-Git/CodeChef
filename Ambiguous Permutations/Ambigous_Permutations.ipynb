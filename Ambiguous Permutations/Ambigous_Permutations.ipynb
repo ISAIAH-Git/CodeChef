{
 "cells": [
  {
   "cell_type": "code",
   "execution_count": 1,
   "metadata": {},
   "outputs": [
    {
     "name": "stdout",
     "output_type": "stream",
     "text": [
      "4\n",
      "1 4 3 2\n",
      "0\n",
      "[0, 0, 0, 0]\n",
      "1\n",
      "[1, 0, 0, 0]\n",
      "1\n",
      "[1, 0, 0, 0]\n",
      "4\n",
      "[1, 0, 0, 2]\n",
      "2\n",
      "[1, 0, 0, 2]\n",
      "3\n",
      "[1, 0, 3, 2]\n",
      "3\n",
      "[1, 0, 3, 2]\n",
      "2\n",
      "[1, 4, 3, 2]\n",
      "ambiguous\n",
      "5\n",
      "2 3 4 5 1\n",
      "0\n",
      "[0, 0, 0, 0, 0]\n",
      "2\n",
      "[0, 1, 0, 0, 0]\n",
      "1\n",
      "[0, 1, 0, 0, 0]\n",
      "3\n",
      "[0, 1, 2, 0, 0]\n",
      "2\n",
      "[0, 1, 2, 0, 0]\n",
      "4\n",
      "[0, 1, 2, 3, 0]\n",
      "3\n",
      "[0, 1, 2, 3, 0]\n",
      "5\n",
      "[0, 1, 2, 3, 4]\n",
      "4\n",
      "[0, 1, 2, 3, 4]\n",
      "1\n",
      "[5, 1, 2, 3, 4]\n",
      "not ambiguous\n",
      "1\n",
      "1\n",
      "0\n",
      "[0]\n",
      "1\n",
      "[1]\n",
      "ambiguous\n",
      "0\n"
     ]
    }
   ],
   "source": [
    "while(1):\n",
    "    length=int(input())\n",
    "    if(length==0):\n",
    "        break\n",
    "    List_1=list(map(int,input().split()))\n",
    "    List_2 = [0]*length\n",
    "    for i in range(0, len(List_1)):\n",
    "        print(i)\n",
    "        print(List_2)\n",
    "        print(List_1[i])\n",
    "        List_2[List_1[i]-1] = i+1\n",
    "        print(List_2)\n",
    "    if(List_1==List_2):\n",
    "        print(\"ambiguous\")\n",
    "    else:\n",
    "        print(\"not ambiguous\")"
   ]
  }
 ],
 "metadata": {
  "kernelspec": {
   "display_name": "Python 3",
   "language": "python",
   "name": "python3"
  },
  "language_info": {
   "codemirror_mode": {
    "name": "ipython",
    "version": 3
   },
   "file_extension": ".py",
   "mimetype": "text/x-python",
   "name": "python",
   "nbconvert_exporter": "python",
   "pygments_lexer": "ipython3",
   "version": "3.8.3"
  }
 },
 "nbformat": 4,
 "nbformat_minor": 4
}
