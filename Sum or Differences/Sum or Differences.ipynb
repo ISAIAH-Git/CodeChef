{
 "cells": [
  {
   "cell_type": "code",
   "execution_count": 1,
   "metadata": {},
   "outputs": [
    {
     "name": "stdout",
     "output_type": "stream",
     "text": [
      "82\n",
      "28\n",
      "54\n"
     ]
    }
   ],
   "source": [
    "N1=int(input())\n",
    "N2=int(input())\n",
    "if(N1>N2):\n",
    "    print(N1-N2)\n",
    "else:\n",
    "    print(N1+N2)"
   ]
  }
 ],
 "metadata": {
  "kernelspec": {
   "display_name": "Python 3",
   "language": "python",
   "name": "python3"
  },
  "language_info": {
   "codemirror_mode": {
    "name": "ipython",
    "version": 3
   },
   "file_extension": ".py",
   "mimetype": "text/x-python",
   "name": "python",
   "nbconvert_exporter": "python",
   "pygments_lexer": "ipython3",
   "version": "3.8.3"
  }
 },
 "nbformat": 4,
 "nbformat_minor": 4
}
