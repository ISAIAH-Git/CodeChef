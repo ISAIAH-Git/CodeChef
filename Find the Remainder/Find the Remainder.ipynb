{
 "cells": [
  {
   "cell_type": "code",
   "execution_count": 1,
   "metadata": {},
   "outputs": [
    {
     "name": "stdout",
     "output_type": "stream",
     "text": [
      "3\n",
      "1 2\n",
      "1\n",
      "100 200\n",
      "100\n",
      "40 15\n",
      "10\n"
     ]
    }
   ],
   "source": [
    "k=int(input())\n",
    "for i in range(k):\n",
    "    y=list(map(int,input().split()))\n",
    "    h=divmod(y[0],y[1])\n",
    "    print(h[1])"
   ]
  }
 ],
 "metadata": {
  "kernelspec": {
   "display_name": "Python 3",
   "language": "python",
   "name": "python3"
  },
  "language_info": {
   "codemirror_mode": {
    "name": "ipython",
    "version": 3
   },
   "file_extension": ".py",
   "mimetype": "text/x-python",
   "name": "python",
   "nbconvert_exporter": "python",
   "pygments_lexer": "ipython3",
   "version": "3.8.3"
  }
 },
 "nbformat": 4,
 "nbformat_minor": 4
}
