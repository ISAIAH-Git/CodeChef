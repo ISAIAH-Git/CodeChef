{
 "cells": [
  {
   "cell_type": "code",
   "execution_count": 1,
   "metadata": {},
   "outputs": [
    {
     "name": "stdout",
     "output_type": "stream",
     "text": [
      "3\n",
      "10 20\n",
      "<\n",
      "20 10\n",
      ">\n",
      "10 10\n",
      "=\n"
     ]
    }
   ],
   "source": [
    "for i in range(int(input())):\n",
    "    x,y=map(int,input().split())\n",
    "    if(x>y):\n",
    "        print(\">\")\n",
    "    elif(x==y):\n",
    "        print(\"=\")\n",
    "    else:\n",
    "        print(\"<\")"
   ]
  }
 ],
 "metadata": {
  "kernelspec": {
   "display_name": "Python 3",
   "language": "python",
   "name": "python3"
  },
  "language_info": {
   "codemirror_mode": {
    "name": "ipython",
    "version": 3
   },
   "file_extension": ".py",
   "mimetype": "text/x-python",
   "name": "python",
   "nbconvert_exporter": "python",
   "pygments_lexer": "ipython3",
   "version": "3.8.3"
  }
 },
 "nbformat": 4,
 "nbformat_minor": 4
}
