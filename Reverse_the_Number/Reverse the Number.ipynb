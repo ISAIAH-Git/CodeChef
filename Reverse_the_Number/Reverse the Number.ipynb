{
 "cells": [
  {
   "cell_type": "code",
   "execution_count": 1,
   "metadata": {},
   "outputs": [
    {
     "name": "stdout",
     "output_type": "stream",
     "text": [
      "4\n",
      "12345\n",
      "54321\n",
      "31203\n",
      "30213\n",
      "2123\n",
      "3212\n",
      "2300\n",
      "32\n"
     ]
    }
   ],
   "source": [
    "for i in range(int(input())):\n",
    "    Input=input()\n",
    "    print(int(Input[::-1]))"
   ]
  }
 ],
 "metadata": {
  "kernelspec": {
   "display_name": "Python 3",
   "language": "python",
   "name": "python3"
  },
  "language_info": {
   "codemirror_mode": {
    "name": "ipython",
    "version": 3
   },
   "file_extension": ".py",
   "mimetype": "text/x-python",
   "name": "python",
   "nbconvert_exporter": "python",
   "pygments_lexer": "ipython3",
   "version": "3.8.3"
  }
 },
 "nbformat": 4,
 "nbformat_minor": 4
}
