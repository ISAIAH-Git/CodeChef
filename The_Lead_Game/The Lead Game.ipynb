{
 "cells": [
  {
   "cell_type": "code",
   "execution_count": 5,
   "metadata": {},
   "outputs": [
    {
     "name": "stdout",
     "output_type": "stream",
     "text": [
      "5\n",
      "140 82\n",
      "89 134\n",
      "90 110\n",
      "112 106\n",
      "88 90\n",
      "1 58\n"
     ]
    }
   ],
   "source": [
    "List_1=list()\n",
    "List_2=list()\n",
    "difference=list()\n",
    "Dict={\"1\":list(),\"2\":list()}\n",
    "for i in range(int(input())):\n",
    "    Input=list(map(int,input().split()))\n",
    "    List_1.append(Input[0])\n",
    "    List_2.append(Input[1])\n",
    "    if(sum(List_1)>sum(List_2)):\n",
    "        difference.append(abs(sum(List_1)-sum(List_2)))\n",
    "        Dict[\"1\"].append(sum(List_1)-sum(List_2))\n",
    "    elif(sum(List_2)>sum(List_1)):\n",
    "        Dict[\"2\"].append(sum(List_2)-sum(List_1))\n",
    "        difference.append(abs(sum(List_1)-sum(List_2)))\n",
    "if(max(difference) in Dict[\"1\"]):\n",
    "    print(\"1\",max(difference))\n",
    "elif(max(difference) in Dict[\"2\"]):\n",
    "    print(\"2\",max(difference))"
   ]
  }
 ],
 "metadata": {
  "kernelspec": {
   "display_name": "Python 3",
   "language": "python",
   "name": "python3"
  },
  "language_info": {
   "codemirror_mode": {
    "name": "ipython",
    "version": 3
   },
   "file_extension": ".py",
   "mimetype": "text/x-python",
   "name": "python",
   "nbconvert_exporter": "python",
   "pygments_lexer": "ipython3",
   "version": "3.8.3"
  }
 },
 "nbformat": 4,
 "nbformat_minor": 4
}
