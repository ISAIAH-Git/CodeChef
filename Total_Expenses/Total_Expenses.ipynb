{
 "cells": [
  {
   "cell_type": "code",
   "execution_count": 1,
   "metadata": {},
   "outputs": [
    {
     "name": "stdout",
     "output_type": "stream",
     "text": [
      "3\n",
      "100 120\n",
      "12000.000000\n",
      "10 20\n",
      "200.000000\n",
      "1200 20\n",
      "21600.000000\n"
     ]
    }
   ],
   "source": [
    "for i in range(int(input())):\n",
    "    x,y=map(int,input().split())\n",
    "    if(x<1000 and y<1000):\n",
    "        print(\"{:.6f}\".format(x*y))\n",
    "    elif(x>1000 or y>1000):\n",
    "        total=x*y\n",
    "        discount=(x*y)*0.1\n",
    "        print(\"{:.6f}\".format(total-discount))"
   ]
  }
 ],
 "metadata": {
  "kernelspec": {
   "display_name": "Python 3",
   "language": "python",
   "name": "python3"
  },
  "language_info": {
   "codemirror_mode": {
    "name": "ipython",
    "version": 3
   },
   "file_extension": ".py",
   "mimetype": "text/x-python",
   "name": "python",
   "nbconvert_exporter": "python",
   "pygments_lexer": "ipython3",
   "version": "3.8.3"
  }
 },
 "nbformat": 4,
 "nbformat_minor": 4
}
