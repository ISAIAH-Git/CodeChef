{
 "cells": [
  {
   "cell_type": "code",
   "execution_count": 4,
   "metadata": {},
   "outputs": [
    {
     "name": "stdout",
     "output_type": "stream",
     "text": [
      "6\n",
      "gaga\n",
      "YES\n",
      "abcde\n",
      "NO\n",
      "rotor\n",
      "YES\n",
      "xyzxy\n",
      "YES\n",
      "abbaab\n",
      "NO\n",
      "ababc\n",
      "NO\n"
     ]
    }
   ],
   "source": [
    "import collections\n",
    "from collections import Counter\n",
    "import numpy as np\n",
    "for i in range(int(input())):\n",
    "    k=input()\n",
    "    if(len(k)%2==0):\n",
    "        middle=len(k)//2\n",
    "        Dict_1=dict(collections.Counter(k[:middle]))\n",
    "        Dict_2=dict(collections.Counter(k[middle:]))\n",
    "        if(sorted(Dict_1.items())==sorted(Dict_2.items())):\n",
    "            print(\"YES\")\n",
    "        else:\n",
    "            print(\"NO\")\n",
    "        Dict_1.clear()\n",
    "        Dict_2.clear()\n",
    "    elif(len(k)%2!=0):\n",
    "        mid=int(np.ceil(len(k)//2))\n",
    "        Dict_3=dict(collections.Counter(k[:mid]))\n",
    "        Dict_4=dict(collections.Counter(k[mid+1:]))\n",
    "        if(sorted(Dict_3.items())==sorted(Dict_4.items())):\n",
    "            print(\"YES\")\n",
    "        else:\n",
    "            print(\"NO\")\n",
    "        Dict_3.clear()\n",
    "        Dict_4.clear()"
   ]
  },
  {
   "cell_type": "code",
   "execution_count": null,
   "metadata": {},
   "outputs": [],
   "source": []
  }
 ],
 "metadata": {
  "kernelspec": {
   "display_name": "Python 3",
   "language": "python",
   "name": "python3"
  },
  "language_info": {
   "codemirror_mode": {
    "name": "ipython",
    "version": 3
   },
   "file_extension": ".py",
   "mimetype": "text/x-python",
   "name": "python",
   "nbconvert_exporter": "python",
   "pygments_lexer": "ipython3",
   "version": "3.8.3"
  }
 },
 "nbformat": 4,
 "nbformat_minor": 4
}
