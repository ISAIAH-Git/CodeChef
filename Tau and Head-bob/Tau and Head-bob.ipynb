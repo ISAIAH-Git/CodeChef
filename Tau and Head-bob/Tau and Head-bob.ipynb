{
 "cells": [
  {
   "cell_type": "code",
   "execution_count": 2,
   "metadata": {},
   "outputs": [
    {
     "name": "stdout",
     "output_type": "stream",
     "text": [
      "3\n",
      "5\n",
      "NNNYY\n",
      "NOT INDIAN\n",
      "6\n",
      "NNINNI\n",
      "INDIAN\n",
      "4\n",
      "NNNN\n",
      "NOT SURE\n"
     ]
    }
   ],
   "source": [
    "for i in range(int(input())):\n",
    "    length=int(input())\n",
    "    String=input()\n",
    "    if(String.find(\"I\")!=-1):\n",
    "        print(\"INDIAN\")\n",
    "    elif(String.find(\"Y\")!=-1):\n",
    "        print(\"NOT INDIAN\")\n",
    "    else:\n",
    "        print(\"NOT SURE\")"
   ]
  }
 ],
 "metadata": {
  "kernelspec": {
   "display_name": "Python 3",
   "language": "python",
   "name": "python3"
  },
  "language_info": {
   "codemirror_mode": {
    "name": "ipython",
    "version": 3
   },
   "file_extension": ".py",
   "mimetype": "text/x-python",
   "name": "python",
   "nbconvert_exporter": "python",
   "pygments_lexer": "ipython3",
   "version": "3.8.3"
  }
 },
 "nbformat": 4,
 "nbformat_minor": 4
}
