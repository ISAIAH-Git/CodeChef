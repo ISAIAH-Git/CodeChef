{
 "cells": [
  {
   "cell_type": "code",
   "execution_count": 2,
   "metadata": {},
   "outputs": [
    {
     "name": "stdout",
     "output_type": "stream",
     "text": [
      "2\n",
      "1 4\n",
      "10\n",
      "2 3\n",
      "21\n"
     ]
    }
   ],
   "source": [
    "def Sum(n):\n",
    "    k=((n*(n+1))//2)\n",
    "    return k\n",
    "    \n",
    "for j in range(int(input())):\n",
    "    x,y=map(int,input().split())\n",
    "    m=0\n",
    "    for l in range(x):\n",
    "        m=Sum(y)\n",
    "        y=m\n",
    "    print(y)"
   ]
  }
 ],
 "metadata": {
  "kernelspec": {
   "display_name": "Python 3",
   "language": "python",
   "name": "python3"
  },
  "language_info": {
   "codemirror_mode": {
    "name": "ipython",
    "version": 3
   },
   "file_extension": ".py",
   "mimetype": "text/x-python",
   "name": "python",
   "nbconvert_exporter": "python",
   "pygments_lexer": "ipython3",
   "version": "3.8.3"
  }
 },
 "nbformat": 4,
 "nbformat_minor": 4
}
