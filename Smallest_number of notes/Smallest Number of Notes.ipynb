{
 "cells": [
  {
   "cell_type": "code",
   "execution_count": 4,
   "metadata": {},
   "outputs": [
    {
     "name": "stdout",
     "output_type": "stream",
     "text": [
      "3\n",
      "1200\n",
      "12\n",
      "500\n",
      "5\n",
      "242\n",
      "7\n"
     ]
    }
   ],
   "source": [
    "for i in range(int(input())):\n",
    "    List=[100,50,10,5,2,1]\n",
    "    n=int(input())\n",
    "    count=0\n",
    "    i=0\n",
    "    while(n!=0):\n",
    "        x=n//List[i]\n",
    "        n=n-x*List[i]\n",
    "        count=count+x\n",
    "        i=i+1\n",
    "    print(count)"
   ]
  }
 ],
 "metadata": {
  "kernelspec": {
   "display_name": "Python 3",
   "language": "python",
   "name": "python3"
  },
  "language_info": {
   "codemirror_mode": {
    "name": "ipython",
    "version": 3
   },
   "file_extension": ".py",
   "mimetype": "text/x-python",
   "name": "python",
   "nbconvert_exporter": "python",
   "pygments_lexer": "ipython3",
   "version": "3.8.3"
  }
 },
 "nbformat": 4,
 "nbformat_minor": 4
}
